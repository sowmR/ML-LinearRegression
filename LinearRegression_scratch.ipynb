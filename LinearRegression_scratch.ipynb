{
  "nbformat": 4,
  "nbformat_minor": 0,
  "metadata": {
    "colab": {
      "name": "LinearRegression_scratch.ipynb",
      "provenance": [],
      "collapsed_sections": [],
      "authorship_tag": "ABX9TyMSO5Njmt3YlwU//WjrtL9I",
      "include_colab_link": true
    },
    "kernelspec": {
      "name": "python3",
      "display_name": "Python 3"
    },
    "language_info": {
      "name": "python"
    }
  },
  "cells": [
    {
      "cell_type": "markdown",
      "metadata": {
        "id": "view-in-github",
        "colab_type": "text"
      },
      "source": [
        "<a href=\"https://colab.research.google.com/github/sowmR/ML-LinearRegression/blob/main/LinearRegression_scratch.ipynb\" target=\"_parent\"><img src=\"https://colab.research.google.com/assets/colab-badge.svg\" alt=\"Open In Colab\"/></a>"
      ]
    },
    {
      "cell_type": "markdown",
      "metadata": {
        "id": "5A73I9apjtRd"
      },
      "source": [
        "# Linear Regression\n",
        "\n",
        "**Formula:**\n",
        "\n",
        "When there is only one feature (x) and one target(y)\n",
        "\n",
        "y = mx+c\n",
        "\n",
        "The above is the formula for line. m = slope/weight, c = intercept/bias.\n",
        "\n",
        "\n",
        "There are multiple features:  x = [x1,x2,x3....xn]\n",
        "\n",
        "y = b0+b1*x1+b2*x2....+bn*xn\n",
        "\n",
        "\n",
        "**Pros:**\n",
        "\n",
        "Very Simple to implement\n",
        "\n",
        "Performs well on data with linear relationship\n",
        "\n",
        "**Cons:**\n",
        "\n",
        "Not suitable for data having non-linear relationship\n",
        "\n",
        "Underfitting issue is possible\n",
        "\n",
        "Sensitive to Outliers."
      ]
    },
    {
      "cell_type": "markdown",
      "metadata": {
        "id": "-N8KU-URlzr9"
      },
      "source": [
        "# Evaluation\n",
        "\n",
        "The Following evaluation matrices are used to evaluate the efficiency of Linear model\n",
        "\n",
        "#### Loss function: \n",
        "\n",
        "Loss function measures how far as predicted value is from the actual value. \n",
        "\n",
        "This will help in finding which parameter (weight, bias in this case) performs betters. \n",
        "\n",
        "Lower the loss function value, better the model will be. \n",
        "\n",
        "\n",
        "Loss = (1/n) * sum((yi - y`i)**2)\n",
        "\n",
        "![image.png](data:image/png;base64,iVBORw0KGgoAAAANSUhEUgAAAcAAAACUCAYAAAAETfkmAAAAAXNSR0IArs4c6QAAAARnQU1BAACxjwv8YQUAAAAJcEhZcwAADsMAAA7DAcdvqGQAADO1SURBVHhe7d0JnGVFdcDh6ukBBBcQECMhRg2LmgQSNYoILiRIQBANKIEIhiAqoIIoKItDRAVFCS5xQSEYxACCRqNJBAVEQFziGreoIMi+ySI7s+R+1XOGy+N1z+vu1zP9+p3//Gru67vUvbduVZ06p05VjSxpKEmSJEkyZMxbuk2SJEmSoSIFYJIkSTKUpABMkiRJhpIUgEmSJMlQkgIwSZIkGUpSACZJkiRDSQrAJEmSZChJAZgkSZIMJSkAkyRJkqEkBWCSJEkylKQATJIkSYaSFIBJkiTJUJICMEmSJBlKUgAmSZIkQ0kKwCRJkmQoSQGYJEmSDCUpAJMkSZKhJAVgkiRJMpSkAEySJEmGkhSASZIkyVCSAjBJkiQZSlIAJkmSJENJCsAkSZJkKEkBmCRJkgwlKQCTJEmSoSQFYJIkSTKUpABMkiRJhpIUgEmSJMlQkgIwSZIkGUpSACZJkiRDSQrAJEmSZChJAZgkSZIMJSkAkyRJkqEkBWCSJEkylKQATJIkSYaSFIBJkiTJUJICMEmSJBlKUgAmSZIkQ0kKwCRJkmQoSQGYJEmSDCUpAJMkSZKhJAVgkiRJMpSkAEySJEmGkhSASZIkyVCSAjBJVjJLlixZFoLFixcv/TVG599JkkyfFIBJshIh9BYuXFh/j4yM1O29995bf7cF4rx58+rfKQiTpH+MNIXqgVKWJMkKhbBbbbXVyn333VduuOGGKuQe97jHlfnz55f777+/Ckf7sf7665fR0dEqDJMkmT4pAJOhQnYPTWs2cc4555QTTjih3HrrrWX77bcvu+66a7nkkkvKiSeeWG666aaq+W266ablkEMOKRtttFFZddVVl16ZJMlUGf3HhqW/k2TOQeDRpGhOwWwTgN/73vfKm970prLNNtuU6667rpx88snlV7/6VfniF79YnvOc55Q999yzaoGf/vSn6/s8//nPr1rjbBXmSTIopC0lmdMQEKusssqyvrPZJjAIsbPOOqs86lGPKvvss09Ze+21y5133ll+9KMfFW3T97znPWXHHXcs2223XXnYwx5Wvv/975e777572bVJkkydFIDJnIfQi36zEBq2s0GA3H777eWKK64oO++8cxXSv/jFL2r/3+GHH15e/OIXLz2rlMsuu6wKvrXWWqseR2p/STI9UgAmc57f/OY35eijj67a1Gxj9dVXL0ceeWR5xSteUf73f/+3/PjHPy4bbrhh2WKLLepx5luOMvbjiU98YjV/IgVgkkyPFIDJnILXJE3qjjvuqALlYx/7WO1Do1F99atfrU4mmC3Cg2a68cYbl0c84hHlBz/4Qfnd735XhdxjH/vYqqEy39IKOcQwgTKFOjfNn0kyfVIAJnOKD3zgA2X33XcvL3rRi8rWW29d9ttvv3LxxRfXYwTIbOWWW24p559/fv292Wab1T7B4Nvf/na58sory5/92Z+VP/7jPy7XX399ufzyy1MIJsk0SQGYzCl4Sp5xxhnlZz/7WdWiCIwYaL5o0aK6nY3ccNNN5Re//GXV7p75F39R99FSaYQXXHBB/ZuX6JOe9KRy2GGHlQ9+8IMpAJNkmqQATOYUxx57bPn85z9f/uM//qP853/+Z/WgDKeR2M4m4pmuufaacvkVl5d11lmnbLTxxnUfeITq/yMY/6IRjP/zP/9TTblbbrllDoif43Q2cLLB03+yBCVzir/6q78qO+20U9l8883LH/7hH1Ynk9nO4qZiu/DrXy/33HV3FXJPeuITlx4ZE5C0PuMYDZZ//etfX3bYYYdq3k2GjxSC/SUFYDJnUDlECAiQGAPIo3K24VkXLV7UCOsnlC232qr87d/+7TIvT6y77rrlDW94Q9l2222rIwwB+ba3va08+tGPXmbaTeYmnY5aKfz6z0hTOWSqJnOCqCDaFccxxxxTPUDBMeaUU06pwgPOX5HeoJ6us7AtXHh/WXX+KuW+ZnvrLbeWhzXCjwMM4cbESXgT4rxa/eYVOghabTI1fOM0ba84MqWTOQNh1inQQvvDbKxYRkfnl0WNICYE13vMY5Z5fxJ63iWmcNMH6BjhRzimNjA38c192wht8pv3nxSASdIPQr3rFpZCNCtwIaLrYRVeExgzOxc66ibQEcIxmXvEd20LQqS5e2YYXbBgQU6GncxZLrzwwmXj6ww4f8lLXrJsPGBfW9STiKoKvlYIVH0p1pIghKG+a42epP+kBpgkM02HpFOtKXiMm6o127ZmmCT6fKOBlqbPmSMFYJJMgnal1O5fTJJ+IE+Z/MCyWLaIvuvMb/1nZOHChdm8SOYUhFOYj0yCvWDBgvrb+Dlr7U3HC7RWQvpnmt+un99UTqed+Zlywde/XlZfdbVy3z33lMWLFpVVRueXeaPzqvlq8cJFZVQlNm+0jvlzvLm6jMwbu/eSpY7Yi5t9jqPtsBPPGMKXJ6h94rYV4lhgHwca55gB57nPfW6dEzWYyrsn0ye+00Rpbx3IN7/5zeUFL3hBndovhsXIeyvDkct9hZ///Of12b71rW/VPsk/+qM/Ks961rPq+pTrr79+3TdoptoUgMmcorOC6bcAVMjnNYIlCs3dd99V9t1//3Lap05duufBEJAqj/kjjTBcogXfCKzmf8JuRbLVVluV0047rfze7/1e/TsF4Moh0l0+ki+s7G+1jxByZi9661vfWqfygzGgpr4zHnRlfLO459e+9rXyvve9rzaoHve4x9UFmr/eNPq8x8tf/vK6ogmBOGikAEzmFAosoqLotwDsjB+f/8IXymv2fW25+YYbl+5pjo825zaK3hbP27Lss/fe5RFrrFEW3U8THK3XLl7UiMAmLoPgxTjSCEr7I17H6vFGe4t7QqWpwlQBMZOZJPu3v/3tsr8dE0BbiHjWXHPNcvzxxy/TAsUzG4eFzHXie6A2jBqNyRaEH4FnjciXvvSlVdMiCC2VZSkvc9uuDK655pqy1157lfvuu6988pOfrDMsEXz/+q//Wg455JBy2223lQMPPLAu4Gy4ziAx0kj0B0pXkgw4UcFE5W4gfFsA/su//Mu0B8K3r1MRqMTe1dznmHcfXe69657as+4wAfioddYsH/rAB8vuu+5ez+8n99xzT62UVKA33XRTXTTXyhG8Xi0FZYWJNirV97///dVclQJw5dJOf79N4H7UUUeVq666qubX173udeX//u//yqGHHlrnft1ll13Ku9/97ip8VjRnn312FYCPfOQjq6ZH45Pn5TlT85111lllo402Kv/2b/9WVywZJLIEJHOKthaFdiXP3DQVgVfpbCb6u2m4z1/ql3Dwfq8re+yya/3tDoSfH7f/9rZy+BGHlvMuOLvZYQC76dgWNVra3c32AVSCzEsEagjx5WE4h8HxVom3iO4LX/jCcsQRR9SJwL/0pS+Vfffdt2p+wTe+8Y26tiAmkw6ezfPENpk+7XxJw/r4xz9etXgNlIMPPrhOeECYfOITn6jLezFBmgqvH8hnrAS9fksa3s0331wbWIRhWBiYZU3KThhaoutXv/pV3T9IpABM5jQq7ajsuZa3mbIwbFjSxFsZHev0X3XNR5Y3HnhgecZmmzbH6q4yslpTvJpbXHX5NeV97zuuXHvdNc09R5tnWlRWW+2h05mpSDiueK7pPNvDH/7w8sxnPrMcd9xx5YQTTqhLQkEFy8xGaxS/tJmIEMQqa+fHNukP0djRL/uWt7ylfPazny177733gxoaG2ywQTV/nnTSSeUv//Iv677pIF75TJ+j+/eC+WdZD5761KdWK0p7rloOWfKsbQjGQWL0bW97Ww6ET+YUUXlAy1lnPTbZZJM62bQKYFJEdEu34l8mBhY2QkQYHSnrrLdeeew6a5Vvfusb5bbbG2Hb6l7/9WWXl/vvu6s8e4vNy8NWW6OJo2mB6/9b3AgZYel5aD9/YF+vISCwnvKUp1QP0F//+te1hc4sasUMrXf9i21NZCK0/p3brvySqUNYyIfR2KHBP+EJT6jHopHhWxJSNP0nP/nJZY011qj7p4P4rr766toI6rW/ToPqr//6r8vf/d3flac//enL8ozno6Faokt+IrwJ7EEiNcBkTmGl9J/+9Ke1/+QnP/lJ/R1C4cYbb6zC0H4Vuv6WNm3hMREP0oLmN0WoEWTl3rHW9A477VT22OMVRjw8qHTRCk9sWvHnnXdeufm3N5T7YghDo0EaDhHaVYRO2sfGC3EeVHCBlrsFdEMQRoNAy72Xd/7c5z5Xl5hinsPyNMdOek3XuUIv6aMhEekS34xwij5d2E9IMt33i7vvvruuJqJP8aKLLlq6d3w8i8DUTsjFs+IHP/jBslmWTDQfloZBYqRJ8OHKncmcRYWiv4TTQHhPamm3TT0EjRatPhaLz6rcw33b+e0C/iCUktahJYuYVpdKuPvF35ywaqNZNtfffN1V5cA3HlDO+OwX62GXLan/lbLhRk8o//zP/1y2fsELy30L72kuGZuWbUXAQWbnnXeu6wueeeaZZb1GY53wnRtOP/308prXvKZsttlm5WMf+1gVplEp6kuinbheGreFOBwXf4xbbOOY/Z3n+C0uv8UX2sYgIW08t3fz2/vIb/F+tgJhFCt7OFeDxHVxvev8bqefvxHHJ2vNUB4sGK1/WL5nWt10002X3bOT9n7PzvHKM+tOOOigg6pXKLPoe9/73sEcBpECMJlLcCD4/ve/XysTQlDrWSXhb6g0BIVa+MhHPlL+4A/+oB6bkA4BWOrg9WZHlJ5aRzR/jIxVUD/87rfLHnvuWX7+yyua+zSycbV55Z67x45t/6IXVm1wnbWbFnWdCE3lUjdNRTe27SftipJXLIcLQlirvRtRSWtI7LHHHrUCPvXUU6sGGYJLXyLPRRWqNGaeo704xo1f2vqbyZm20QnHCgL1hz/8YX021zmfQBWn7T777FP7nwYR1oUPfehDVeMOwSaENkeQ+C7Mnm9605uqduV4mwsuuKAO25EeIQTF5RsQQMySGidTQb+iIULPec5z6mB7XpzLoy0MP/zhD1dN8nnPe14d/qCBNIiMNIkbRThJBhoVt8ohKumobFQ0Cq/jUJGoVPztHJUtouLviku7HerYv3jhmAlr/vxVyllnnl5e/4bXld/eetfYOWZ+WdRc0NzzoEMOKQsOPbysPn9eWbRwSY1G3eL24z7DFIl08a5c15mFCf0ntlae70QjgpZgy/3+jW98Y42DsNKw4GBz7LHH1rjvvPPOpVc9AJd5laWKlgt9VJ4hjDnkiJ8gje/ShpaqYubZOoh873vfq2MuCUAWBwK/DROoPEqAeM9ohLXzoIaKYRDdnLf03x1wwAFVCE2GKBu+GeFpCIOxh/EtO/Ne5z7f0YQKnHa22Wabet1jHvOY+l3FHRrtoJACMBlK2gVbofa7s/A/iA5Bt4yH7B/bcf+9dzfxLSkLjjyifOCDH24qiLGjwaPWW6984Ljjy+4v36X2D4Y1dSZpv3O3yg6x33AKZq1nP/vZ5TOf+Uw1l9LQolHBkUJgxuMar7KOuSuZSVWMKkNOOEzN4kX7nrQks4vQcghVpritt966/Mmf/El1puC0pHIdJELQSxdjMaWZiQqkx3e+8516TFoY52eAu3T1joRSJ4YWfPnLX65aO0HqPNOObbHFFjVtpK0xnZMlGiGGxegyIGB5CzOPo503vI9vE8/nWxOcO+64YxW+np9w9w2ZQO0fJFZAsRsMzL33+7//+9UUIXMxzSRzl7YgQDdh0BMPuazZ0US5ymqrl/mrrlFe8+r9m1b+8+uR0dXGzJ0jq61abm8qxQ82Lf+f/vTnVfjdey/NdWYXum2/43jva/83v/nN6pJPM6alqeTQrqSVFUMtaDAGQ1tqKqBlEpTGiMU4RO+lIm3jmJlsaOO77rprNbO+853vrGZT18aEBYNEpCvhL328x4tf/OLqRBRmaGnhnY3zI8Cka/u7M4/CzC+OGSdI2BGiBNV+++1Xh0RMRfghnoMg9WwaLhow1157bd2PeB4C0DMQmrR1DSMaPa018oVvqC/wrrvuqn8PEqPNCw39MAgtGAVdwdVio8or1O1BxMncREHvSfj1KpecF9E1lceaj16rzt5x/gXnl1tvDjOYvsCRpoV/Q7m9yXvP3nyL8shHPaKMjo45QPT0PDOE/M/b8ytf+UrZfPPNy/7777/ccsAcZ8ouTjZgXlM50lai71U6R6Xq/WhI+o4IvX/4h3+os6DQ+uL92+fOBaSDNNU/ClsC0ryabbw3LdF76wNk5tQQYUrWl2p/mJJtp4uGCi2TNk9z58kZaR+4p+FE73jHO+q3Nkn3pZdeWn70ox9VLdfECxSGV73qVbVhNEikBtigTyQyJqjyzA1zpfAl49P3bzzCQ9JsLw0qqkULGy3gueXgNx9UHrnmw8f2Y8nismThfeXzTeVx0idPbq4rZdHiMQ/IlYmKLFzb9b89/vGPr7/bEFIaiYjn3XbbbR9krlRhGpISqKxpHlF5Gz/GkcICxbSKmOey/T36UcGvbCKdWJU4ioSAM2+ruT7jeBACjrnU/Jq0wbe//e1VU0Nbi5wKvl0gjljNQf2nP5Bm6hniO3gWQ4YI4O9+97vVOqBRpH/zla98ZW28cGairZuRaNBIAdjAvt7OiDyzZmpS16lm3E7EoyLRYldIQnO1LzJ5v+7VLzzPygorBvdRgTEVjt1z/uiqZdGie8vf//3fl5fstFPdN0/lsvSZ7rrj9mp+uuDrF5XReWOzs0RYcc/9AMYpWvaGUwYNEJ3PoVKMiji2+u/abvBXXHHFuN0IKloeiMymvHbbpryoeN1zZaVBPwmzL+HAXEybow0yO+qDazd44l1pY7TjX/7yl7WfjScupIfzBek0lbTx7eI6cajnmGnBccfYvk7so+0x64bzjsC5JyZGkF/WXnvt+nuQmCcxhj348LbRwa9V1HnOeIHdW38Ju/wznvGM2uEv+M2sqiWsEHS7VjAY1Yzq7PFa0AKXZC7OHARk+vb1zLXW5Hrta19bKx0tZwJbf4K+E8eicEQF0u8w2Xjj/Jl6nl6Ce0fodny5wb9u+x8UmkqsaXvU37Ftwrx5q5ZVRlcrBx9wYHnW0zcrixcubgQjwdFU9vNGy7VXX1kWHLmgXNpoTCoU32+iPDNTQaWshQ/5kCem/bBtp13si8DkaYYZFSN0JzCtcbBon3fuuedWcyeNwTCBpz3taXV/O+4pf6NZGNQpthqnTIdMnn4TRBdffHHV9OJc3HrrrdXUeOGFF9b642/+5m/qfsejXHf+nmzoTF8NEV67BK+6sDPvqZt8N89kEgXBs/vb/KRmgmE2F0f7ukEIQ68ByowxQTAtCqYdggTqpN1iM7WUmdF1Cltl4Mc//nE9rg/Eb55ROr/f9a531fPFJ+MGBqG63iwdMp4KSNCpTHDy/iJgFRaYkJZZhMOApUiYJvSlKDR+66T+93//93ou4rp+4h2kk4qN5in4Hc/eGQhsW4XO83j/lR3adPvG0yaitI3fI/PKRk95SjnssMPL4zcYWzy0HmzShSD89iXfKMe977hy2x2/q5fQEjqftR9M9L68DsNsSfip0NqM9zwxDIIHZ3u6Ll0LhjsETH7yr33ydmgenUQ5ifwyqLTTmqasYRvj5ZQHMxNFvymUFY0DDiXGaBof2DYrQ5rIG9NJm856gXk21omktSuvbTRuOOF0C67Vb8hUHtrgIDH0ApCwac9iLsNNND4qOvVllJe97GV1sHAITrChBzKov42jMvtCO8P+13/9V51JgYv0eNDwmBkC8RiDo/CMhxb1TKLiNgZIBcnswXzFeWG84BwtTNrAbKTvFazoOqOMinBkfnnh9juWA954QFl9jTFNaf6qTaVR500r5ZRTPlXOOP0z9bfnUoHOiIAeBxqAxhR8s8nOPcmJwlyRYC4zhpBJFYQhT2vdDYcffnhtGAad7+nd+/5dZgG0QWPnlGlCSFliBo1GgkkZBOcYgtJt/b9+NQoivSkAhJ+5SMH8HctoxXeJvNgN+9V/3mWiemm2MvQm0M45IZkoZAjH0Hk+tNzMUiGzRKuH0NSZz6tNK47N3/lafjLGiSeeuCwOWhthFoLTOTqTXUtrFI8ZMHROxzVairQ+hUiG1N+if8A1H/3oR6tJVItMv43zZ8qExiWb6UMrkebnXQh579ItKGBatgpIt/imEqTn8oL3Hy843i3eztDreb0F32Msvt13363Oro+FTRqN0VSI991THQq++90xk3x/7z8W0P67fY/f/OY3VQDKj6wg7fPGC9IzzHzmizRuMMygvjnHCcJPmWAqM/5tr732elAcnXkD7b9nIh1WRAja+3h+ajT6rRzrW1OmNGxNLqAM6x91zky+dzxX1E/h6csKwCHGMfsRZdnf3YI4fPMQlIMUhlID9OIBAejjBlq+4c3k43aDBxv3X8LPtfrgzCl52GGHVZu9lq5MDBUEtK5pm3DPtoMAM6ipqVzLvCkeGqKWcqAiCVOi5yckzRLhGt5Y//RP/1RNTH/+539ez+9HK7EbKkgODpNBSzaeq007I/YSAr/bhc3vzqClPF5wvBvSVmUMQj2+3fRp7rfkgaK25prrloMPfkt57vOf1/zV5LHFS82hjSb4s5/8uBz1jqPqmCzPOtNEutqqiJm05WuWDhXbREQFGFYR8AZlDtMwgj5ueZV53moCzHoEZeD6+C6I5xmPiY471n6f2EZDbLK4NvIDIs7pwHJi+jFxCbQ/2p6g8c3bMqYlGy+f9hvCK0ytulw08BH3j/Jk2xkmKk+DwFAKwPYHo8W1YdOeCIKM1oWoIHlsxXVRSLT02M7jbwUwBop2DhhlFuI00CbMJAEtClEgtapVHohttMT8PVOZkrCnpeqn0Gq1CvSnP/3pmibdwimnnFKdhJhD20QFMJkQ7xnv1q44+4G4pCHhRwgsTwBMnUVlk42fUvbfb/+yzmPCzKUyGRMkXznnK9VB5K6lfWvefaaINHUP5vi4V9v0PhGdFaAGJFMo5EV5+7//+7+rWU/DjoNYm85v6P7yui4DM9AQpBG/Y8vL13G8vaWhhlY6GVzbzgPLu3cvMA1vtdVWy+IlnDWeWaE0nPWLet6pIC4Nc2VT/TAZwoNTeocJNOilMTSojNx5550zV7pmIe1C5GMzRTHpBSprHpjjocJn/lSgCDWeb66JDKJCUaCZk4zd4coMJksDRgkQx3SGtzVPpg/eoJ5H3J2FnYao760NbZHpk7CF53F/10el0kulsSKIdOkHTDQG4krzMGnaelfENuj8W3pEmrTTxm9pRxDoy2prKpOmfctlt7CTMF/U3Gt+WbhocTnqne8qJ3z0Y+WO38UgeScvqVaI9x9/fNl5l136lm7d0KCKvMtBhXVDw00lym1/PKRp5K12GsKwDsJO3IL8aRYTadp5bjd0FxAGtBKCkJOFsuI5l5cWnkk58B3DAQuusz+eW+iFsPLIY56nH5NjaESbgoxJGIZGHHnkkdWTfDqChpMcLVt9pkslpqPrBWMyWZzcn/e5YTtBfOe5yNAJwHaBp3Vx8ZUhIbMzTXLciAo7Pn4UGJmUVhP7uCxzZulEC4wnV3Rw0xAJynCwYfZkFuqEqzQzka2CF61BnqrMS+LzXJ4PPPUUJteYhSEKfz8FDqZbCPpZiDgemZxZf0XQjju+VRBp1QtauwQAz1zfYMq0H2HZo3kOYaTc3+TDVeavVq657vry6le/ppx/7lfqGW00koyZm+qUV51EurTTql0e9M/R7lX0VnrgUCUvdSPStFseYxkwk5IGpgqYx6dGY/teGC9PEAb6QpURHtTREOklD8U9rAepQufg5jpl2zG/I/SKxpX31KA1Vdt0YWHwbvIxTGsmzTgdxXN5z+W9a+Aa5+piMXRCd4l6iRCTn3uJhxe7WWekHf+Eqa4yMWgMnQBsCwZjnrbbbrtlmhjbu/EtzD+RqQLXKUBaxTquIR4tVBm4E8JNJg8sJWOIQqw8QAtUSUQhEFdUKsxEzIpMJYhCzZREC6T9dKKytnabQhRxxXv2g4hP61JLU6WgcEVlEkGaOS/STsUjfQjyeL9eCuR4uNY4JH2sE3nQThXPKP0XLFhQ+2qmTLdS1Wh+dbmkEabOB76NNFVxMRe2kTcJ4hCAnXlysrge7TgiTlurAqgICUB5icY2FQFIgNEiwJNZnCwcncTzyN9wLw04/cwaehp0Mfi6VyKfSkvzZmokGabhHcNZJ0IvtNOKGbetGU0VjWPCNObe1Jevn3SyeIf283l3w1i8r77GbvXYePhG6iNpxGHJ72Fg6AQgIlPwnmRq8dEJQeZH/VbdUEi13AjJ6I9TMFVesRJyFD5o9bZbi7Q05qU2HA6YVLV2rVJOyEVlYN4/rfGIL7RBGVzBlmF5YcI57m1cIbMoesn0vaJS8mxamCYJaE8btzxU3ky/KkDv61kjTBV9qExb0qPfSEeaS0xEjCk9a0epWtLEu2TJwjIyr8l7ta9vTBOKPON76kuWttJbg8mEw/rUIM+GJjLVtItKvzNvxH5lQV5kfqWRaICNl488NzqfRZ40VRbNFfKx/syJzMnRwOtGu0z1SvsaaRnP6l0i9Bqn66H8Ke/9yHO0a40NacWCo9yyFvUqrHplvO/dDSZQXTDeUeNS18owMJTDIGBrFgZERfenf/qndb8CE31KEULbCW0xClKc1z5f61ULOlC4t99++2XHBQVLZuMSTgvU4grhB4JORR/ne0ZbEyvLoOecc86yvr8gNMO4ph8h3heGYkxG+IFGqt9EXNGZHmaZqQTprGVrqIqO+34Hq4Ewgavo4p6daTJhWLw0dOxvImoUP/ms0UIWjZnWhYifwOMoJF9oLDBDaWxJ//gGkW5xbb9CEI4vMbkBup0/UZD329NpMflLy87y1A5Rtmh+8nVMGm3fVN63fY385v6C35PNf3GttHFt+z5TDRq7kb7M7RMNu+olSFsTb/AcZ/JVf9k/mfhi/Kd31FixL+KZy2FqTckBJl5cpRLDEpgMYDoxyPjdWoj2tffLIOHRKRMGHAjag+v1/5klI1DJyWiu9xxagVqEKt7AMzgHnrcTpiV2es+jQENBda5r+4W4451pBoREtIQFv5mpBJWELTOv/YIJlWPGe+/Tj2fzju3Gwoqi23eYNM3r13gaIblo6Tvc0lQ+nJz0P6t8mBB9X8hXkQ9mgvY7hXmeABSmglUhwrQnP1jbTz6Qh7p9M2UAyot5QZkDmRmNce2ckWQyuJe4I6Cd97x3LyFw7WTzbvv6gPWIAAx85xiE3u38XqBt67+lwe222261q6St+fZCNGy9Y8yDPNXnGSSGTgBGRub4YtxT4KPz2NSKYrIzp6bAFTu8tVwX7vwyB+HFdMVkFlqkv6P/I5A5wwTEecPfCrxKIYSWfq1wxoG5ElUc+jJ22GGHcvzxxy8zvcI9mV9l8jDThKDpJ54xBCAhbgyj59R40I9pTKBnFGigtrRX+x03k73n60dhEkcI0ZkUCuPhvsvFKe3QiWSoK+COlNHmHXzT9zTaHjOY781cqK+pntq8r/zR032niLjj29DWQtPpVfi0v6u8qKzIm2CtIACDyEdt7KMNGf+mi4F1Q95nJuw2MXOveIfIu93u672XF/pBZ75XPtpDrwjAqBum0qiTRuocliROLPoXdat0DrWaCPVY1C2+v/RHv9JgNjN0JlCF1JZXZQzoVkBkGA4mHFf012lJCdyJ9Y1oiaugeGK2kdnY763ubDVkHqGhUcJAdZNUu6dMpmBzcNHfqCPcdQQcwejZorByZ3aNwmJdMC1i2pS4DHz3HGaGCVQ2hmQg3rXfATRC6cC0qbBMFJxDqwhh1S3OyYR+xLFSA9Nok48WL2q0kmZ715131SED+nqlFc1PXopGkbAi35njhMpYRRwTRHQ7rx3az0do8r4MzYPlQ4PRMeVHhRrntoPGH89FfYfSgQYp38yGyZWjvojtZELg3WOfRmvb65yZO44pJ/G713DKKafUtFKPxPg96aZBPl56t0M8W3ir+16coOxD+9y5GIZSA4SWmASAzB2FNnBenKtvMAQTgdh2SxeHvjHeoARVuxVHwJmhJUyU7OxhanB/8yTGdbHfcxCG1kmDiihgOvnSl75Uh1PEChZgmjSThP6EmSYyTqTZ8kKcP7TIQq1AG56nD2p0XvMtv1idTjSYLCa6995710ox0izy30wT9zFGVUMKBlS3G3LjoUK3EgBNX76VlwPmUO74nHu+8IUvjKvhyCfKCm1RfzjzKweceJZBhmDh/GY4h7GRBFZYbKQ786XGLatRu6xPBkNMNK71nco/HNXCnL081GsaHOojmAIvJsb2XeY6QycA46MSGlraNJVwteasIeNEf1ZoMTEeTMY1oF2l1c2tO9CCUvBpaFzqo4Kxn3bZDRlRy01BMX4pBK4hBPom4+9OeKDSILjMrwhB410Ez9NLiPOTMeYzlTfpcc7ZZ9e5H7np7/Kyl9VxnOHotLIaDByAYiUU1pFw1MB4z6QsqMAJwTPPPLM28pQrsF7o2/SehgWNV6Ga8/atb31rvdbUaWDtUEaxstKjH3gf3uCcmpi3NQoCJl8NYGnHI13XwWRhNeBgZ1Jt6a0/0fjN5ZW5dprqe457m8au7QQz1xlpNI/BzV1TwEeVOQgzvwUfu1shi4qeaSL6+AL9HDQ4GVzmYUogHM15qa9MZRK04xefWfJ5u6lktLJpbiaxNvA5OsSZn6IiMe7OmEWZPCbuZq4ybZLWXrvT2nOEyTGZnfA+ZlaXDzRwaO9tR4h2XlnRGAZEk9MINNxGwwrKSefzeE7LdtFc5EGWDg1I5+pSkLeVE9cRcoZ0TJQ39b9z7FJ2TA8Wk0bQHFdWnvaO6oHYTpaw9EhPjWlpoYyGo5FAe1OejTHutgLE8pA+ZvHRHWOiDmNYw4w+3jO3v6f8p+HNwY33Ou/yyIOYynsPCkMnAKfDZApBCDAZLeilQouMN9lMN9UCmswcvongu0eFQwMgYDRmOEAY6xdLCCHyi285k98zzJGEVvs+HJl4YdIKeGXS7jDVfInIm+1KN4hjBKV76RPVx83p6+xGS2aVicmjeyk//SaeL7b9RHqIc7rxakj5ZvoAWZ1MIMA0zbdgeQJVg5pTHiHtfNpouytlJt57NrHic9QAs7yMwKQREH6EIBTc5RVeGa2zQPhbRWUrQJxRefltv2sR22R24DvGd7fVH8TUR/ixFphxI4RffDvntfPATEGjEjrv47lUhGB1CE9p50V+66TbvngfxyZ6F9oQOKXpP9QVYa1AFTOzoe2KSI/xiPtO9/6dZVMZ9u5RvqcDHwSaJguSZdR4r5t1arx428/Ca5cnqfrK+qYh/JzT+cxzkaFeD1AG6SV0u1aQgVUKtkKYHSL06onlHmifKz5/Rwvd385Tadnndzv+IK7PMLsCD0mu/ueff/6yPmImrzge3y7yQuzvd9BIY3IT5Cn7OvO4/jcmWVoEoRT7I393ni8PxlCXCHBe5E/3bR+PIC/b8ow0DInjC2ccntLMqcz8jkd87WsHJUjneP4ox9EojgZPnNd5bS8hvNmf8Yxn1PmNmZKZ1vkfdJ4bDjh+6+PVb2tKQR7kJmOI8zxjpPegpnsvYag1QBmvlzAeMm/0DcokbW1N4vZK5z1c27kvWuuxv32889xkdqHyN6cnD0D9QOZ9NNxB/umkn9+yXdDlSRjjaro8Ji/36pZPaRK8MsHJJSpYdD5zxB+CrB3axwnPid7NcAAVuEqZ5zSthNdkmPDi+QeRSDPvHwIvfrfTszNte4UpXR+s9UDlLX9ztuv0W4B6JCxVNEfWCOOH9SFy+oPvJb3jOYW5yuihhx76j0t/DzVRYJdHt8wQmbn9ezqZxrXTuT6ZPXBysLwPAcgpRAVluAOBMdNEPorABOv+JmHYc88968xDkc9iC79pYrQyY/SYJWliEQ9NpZ3fI0xEHB/vPJUvz2pxE5aGhXDGiEpc43K65WouQlDRmA3NotVzpuNIxMowHoQg72N5wcB5fYDGMHPUCeKbzvX0Hrn11lt7V1WSJOkZlZMxYFzVCUKTJJiuqtcxWv1Aw04lxvTFq1Olp4/N8ATDboI4rw1ByWHnkksuqc4RBlvDe42nrXSLZzycG+cLYUGxb3kaYzKGLpjoCvGNbQm4idAQY4Kn3e+xxx7Va5TADK0vGIb0n5rOPQeJwri8kCQT0c4j5557bh3gTPjx0uOiviKFH6ISo4Xqg4T+obbw6yTeQT+gManGmhLivDIRwm+65cGzCQQfVNxCVOj2x7GkO9JLWhGErApty0K370PImTpNYIYP4ef68Ro1c5nUAJfSa2GOCiWZHfhuvglXcJOQ84ZjvjOVnDGSjjH38IrT5xEDtTmgWPmf+Si+acTVD2hNhhGYpd/0emZKmYm5Wjtpt+JtjSGl+THBEsT696RTjLELxsv/4uChaZwYD0PTlU2URv1Mw6T/6GPlfew76fczZMJvpufQHIfpG6YATAYeM2AYWG6hYq1YQs7AYmPsaBAqb+Y8gs9gX0KSuYi7P8EUU2451znTxXyYzJ0WVzYAnFOH55kpulVYBqKbLs86b1YHCAzDkFYquzBlun4ixB1DIEJL64b0o4GkAJzdMIFyxkJ8s858MDQC8JZbbkkBmAwsKmbTiHH9VtnTePSzEQDhFs4d3IrrprQj4GJ6LoU/+uU4eoRAmA6Eq/jMaWmMn+mvJpo2r1/w7NO6twIHxwZTj9FCNQYC6WCgeSzNFZXfeIxXCUZFGcf93RZ+KQBnL/J4NGRsfTd5fhi1P6QATAYaqwhw62fONHuICYGtrWhsk8JsTBsNjKknMJk4oclrzmodroslaaYLjzpLaJlQ2MwmvCdVNJ5FJTNdAUvIeTdmXTN/GF/ot+n4TGrMXEnoqcRCULmvik4DwFRn0fqP48sjKkVxiCvijjFlUXnaP0yV5yDj23UbJjFspABMBhqaHEcTkwlbQYOjB49FmiEnDs4fVvOgIamcaYAEIO9GwoNHpP6x6QpAcR177LFVwyIoaFu0yhB6Qi/CgWBpB3HF4GkBtqYOE2JfJ9GqV9GJx2/mXo44bRybDM4X93jXpQBMBomRpjWZAjAZWHgpGgDMrGklA9qfWUQIOr+tMN6GQGCWNEM/LG/FKSC0oqnykY98pE7dRUNbWRA+nYIp9unn5AxjbB0mK/h6JQVgMkjkMIhkoOHJRviYw5LziXXsVO6GG/D0DEJT4gnJWQaEJC1xukMTTCdFoBJ+zEq0rdD++gGhEppkG/vifqFhxu+2ecs+A6RjdfaZEn5JMmikBpgMNARbaB2m+SIQ9e2Fuz/NR4Ufbt6m2LKAaAyXMFDd+mmcZqaqBZpQ2BAL9yFUo39FnGHCnIzQCUFnG4I7rg+PPaHTgaWtfTnGDEy4uz+HHO85kdNLP0gNMBkkRm6++eYUgMlAEwJH358hD4SFme0NgyCQQkgSBPoEDeoOpxB9hwYCu6aXyjvOawu0EK6zhXBW6SSE6UwKqRSAySCRJtBk4CH8eEYybarkCSezlxB+UCkLt99+e9XUCAgQgIQf06UhA7TCXnEPgk8Ircq+lR28f6RBG3/TGlNAJckDpABMBprQarj+m7wZ+t+szA/HCSkCwGK0+gjB/LnVVlvV32eccUbZa6+9qhDsFcKEliWE8GkzFUETgrrXENcEfnsuDYJ4Z9jSkpMkeTBDvR5ghsEPKn1b2ttll11WM7XpzSyvE+fQ0AgAq5xfeeWV9RzHOc4YvqDvkLZotpa4ZqIQWlZogCGE7KNdxvH4ux3ax4Ru8U8mtO+hz89wD79DK3UchKLz0RlHhgzDGlIDTAYamRimQ+N0AjPAWF7HsbZwIiBDE7L8C6eXiy66qApGE0Q/9alPrceWRwhdwi/wdwibuKdtOKuEthjH2uZI2/g9GeKaiJuQI8hD4KMz3kivJEnSBJoMOCp4mo/JsA1xgKnHCDfHVPghCK1/R/DAnKBWIDcI3sTQr3zlKydcIaET8RE6ER/8DsEWgVC06KihGu5nX/ua6SK+wHvSaM1Ew9mHJtgmhV+SPJjRgw8+OBfETQYaC72efvrp5aqrrqrCzNJDG2ywQRU+AoFDKzLbCy3QtGHf+c536pIwVtK2NpqVDiYjIAiXEGRxXQjaNp4ppkdba6216ni8zuumA03PpNeE7AUXXFA9Ya3zpgGw7bbbVq0QKfyS5KGMHnLIISkAk4EmVrJm/rMatgHwoWmFQLLl8bnJJptUQfToRz+6zopiTlAm06BTgI1HNy3OtSFoIh6ep8YJ0hZ322232vfYFp7o9Z7dIODNbEPjo2GaDNwcod6JAHTfFSn8pvMuSbKiGbnxxhuzaZjMOULzWxF0Chh/EwQhDK644oqqga633npVSBOAbcE0HaFBA6TVWuJm/fXXL0cffXQ57bTT6gThJgGPoSDj0fnsKcCSYWLkhhtuSAGYJNMkhF7n75nEfYS2oLfeH9OuRXh7EYBJMsysmCZyksxxQuDR7gglwxG+9rWv1T45Szb5O3C8H7hnp5Yb93GPTieYJEkeTArAJOkjBBKz5EknnVRXqOCc86pXvaqcd955y4YmtIdPTIdw8gnEH04v/bpHksxl0gSaJH3mU5/6VA3vfe97q+A75phj6kwzvE2ZJENAco4JgdUrtLp11123vPrVr64D/tvQCK1GbxJwayPSPqe7zFOSzGVyJpgMGfoYbrrppvK5z32urkZhurWYes0K8QRUaG2cYHivElCTCVZ3MHTDvTpp73Ov9nNlyJDhoWHk+uuvTw0wSfqEMYknn3xy2W677arnp6WXTL/GM3PLLbes59SCt1RATQXXMbW2hWnwlre8pWqAL33pS6sTDKGZJEl3sg8wSfqIGWYIoU033bR89atfLZdeemnZYost6uoUCOEH26mEcHyxbQu/JEkmx8h1112XGmCS9IlwRKEJ7rvvvnWFiSOOOKL+Dq9MQstsNAbJd3pxBuNph9GHaEB9eyV75wuHH3541UC33nrrqgl6Fg4xKSiT5KGkAEySPhIC8Mtf/nI54IAD6uB3gsgMLVaj33333evxo446qk7EPdlxeoSoGW3e/va31zlP2xCAhx56aL3fNttsU0444YRqAm17hyZJ8gApAJOkj4QmxuPTavPmJaWVHXTQQXWMnqER5iQ1bdltt902aQ2QNsd55slPfnLV6pzXjmPBggXl4x//eO2DNCCeyZTQjHP9nSTJGCPXXnttCsAk6SME3f7771/OPvvsOkcnDcx8nYcddlidp7QfiJOTDeFmBQgaJoHqftY33Hjjjavp1fRoBKaVMFILTJIHkwIwSfqM5ZloX5/4xCfKhhtuWFerNxE2bbCf0OgIwOOPP76ceuqp1dxJ+OpbpPFZGd9x2iDhu8466yy9MkkSpABMkhngjjvuKBdffHGdqJoQtAzSZNYb7BXDIJhTm3JcFwGOGWBCO6Qp2v+0pz0tzZ9J0sHINddckwIwSVYA3cbtJUmy8shxgEnSJ9qOKwQdDUxAOKvMtPBzH6Hz/kmSPJQUgEkyA4SwC4G3osyP7iN03j9JkocycvXVV6cJNEmSJBk6UgNMkiRJhpIUgEmSJMlQkgIwSZIkGUpGrrrqquwDTJIkSYaO1ACTJEmSoSQFYJIkSTKUjFx55ZVpAk2SJEmGjtQAkyRJkqEkBWCSJEkyhJTy/xR74Tntn+gpAAAAAElFTkSuQmCC)\n",
        "\n",
        "\n",
        "\n",
        "\n",
        "\n"
      ]
    },
    {
      "cell_type": "markdown",
      "metadata": {
        "id": "-mOGPSxnnYtc"
      },
      "source": [
        "# optimization\n",
        "\n",
        "determining best parameter for the model. \n",
        "\n",
        "In case of linear regression, optimization process should reduce the loss function so that the predicted value is more accurate. \n",
        "\n",
        "\n",
        "Gradient descent is the method used to optimize the linear regression model.\n",
        "\n",
        "\n",
        "First, randomly initialize the parameters for the model (weight and bias in this case).\n",
        "\n",
        "Then, change the parameter values through multiple iterations until a global minimum value is achieved. \n",
        "\n",
        "Formula for gradient descent:\n",
        "\n",
        "weight = weight - L* Dw\n",
        "\n",
        "bias = bias - L * Db\n",
        "\n",
        "where,\n",
        "\n",
        "L = Learning Rate,\n",
        "\n",
        "Dw = Parital derivative of Loss function with respect to w\n",
        "\n",
        "Db = Partial derivative of Loss function with respect to b\n",
        "\n",
        "\n",
        "![image.png](data:image/png;base64,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)\n",
        "\n",
        "\n",
        "\n",
        "\n",
        "\n",
        "![image.png](data:image/png;base64,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)\n",
        "\n",
        "\n",
        "\n",
        "for a multivariant input, the formula is changed to \n",
        "\n",
        "w[i] = w[i] - L*Dw[i]\n",
        "\n",
        "where , w[i] = i th weight."
      ]
    },
    {
      "cell_type": "code",
      "metadata": {
        "id": "xID--2MR_tjx"
      },
      "source": [
        "import os\n",
        "import pandas as pd\n",
        "import numpy as np\n",
        "import matplotlib.pyplot as plt\n",
        "\n",
        "from sklearn.metrics import mean_squared_error, r2_score"
      ],
      "execution_count": 29,
      "outputs": []
    },
    {
      "cell_type": "code",
      "metadata": {
        "colab": {
          "base_uri": "https://localhost:8080/"
        },
        "id": "S_j5FOfPeRIv",
        "outputId": "98a3a53f-8044-435a-99a8-59df49bb3421"
      },
      "source": [
        "dataset = pd.read_csv('./sample_data/insurance_costs.csv')\n",
        "print(dataset.shape)\n",
        "print(dataset.columns)"
      ],
      "execution_count": 30,
      "outputs": [
        {
          "output_type": "stream",
          "name": "stdout",
          "text": [
            "(1338, 6)\n",
            "Index(['Unnamed: 0', 'age', 'sex', 'children', 'region', 'charges'], dtype='object')\n"
          ]
        }
      ]
    },
    {
      "cell_type": "code",
      "metadata": {
        "colab": {
          "base_uri": "https://localhost:8080/"
        },
        "id": "94KTQNZGed9b",
        "outputId": "374fbdd5-66f3-4f94-efd4-b772781ffef8"
      },
      "source": [
        "dataset.drop('Unnamed: 0', axis=1,inplace=True)\n",
        "features = list(dataset.columns)\n",
        "target = 'charges'\n",
        "print(features)\n",
        "print(dataset.head(5))\n"
      ],
      "execution_count": 31,
      "outputs": [
        {
          "output_type": "stream",
          "name": "stdout",
          "text": [
            "['age', 'sex', 'children', 'region', 'charges']\n",
            "   age     sex  children     region      charges\n",
            "0   19  female         0  southwest  16884.92400\n",
            "1   18    male         1  southeast   1725.55230\n",
            "2   28    male         3  southeast   4449.46200\n",
            "3   33    male         0  northwest  21984.47061\n",
            "4   32    male         0  northwest   3866.85520\n"
          ]
        }
      ]
    },
    {
      "cell_type": "markdown",
      "metadata": {
        "id": "NUANxSwd9kst"
      },
      "source": [
        "# Data Preprocessing"
      ]
    },
    {
      "cell_type": "code",
      "metadata": {
        "colab": {
          "base_uri": "https://localhost:8080/",
          "height": 206
        },
        "id": "1aTbZdvx9jw2",
        "outputId": "1d56918b-74b2-48ab-886c-fee0d9b158b5"
      },
      "source": [
        "dataset = pd.get_dummies(dataset)\n",
        "dataset.head(5)"
      ],
      "execution_count": 44,
      "outputs": [
        {
          "output_type": "execute_result",
          "data": {
            "text/html": [
              "<div>\n",
              "<style scoped>\n",
              "    .dataframe tbody tr th:only-of-type {\n",
              "        vertical-align: middle;\n",
              "    }\n",
              "\n",
              "    .dataframe tbody tr th {\n",
              "        vertical-align: top;\n",
              "    }\n",
              "\n",
              "    .dataframe thead th {\n",
              "        text-align: right;\n",
              "    }\n",
              "</style>\n",
              "<table border=\"1\" class=\"dataframe\">\n",
              "  <thead>\n",
              "    <tr style=\"text-align: right;\">\n",
              "      <th></th>\n",
              "      <th>age</th>\n",
              "      <th>children</th>\n",
              "      <th>charges</th>\n",
              "      <th>sex_female</th>\n",
              "      <th>sex_male</th>\n",
              "      <th>region_northeast</th>\n",
              "      <th>region_northwest</th>\n",
              "      <th>region_southeast</th>\n",
              "      <th>region_southwest</th>\n",
              "    </tr>\n",
              "  </thead>\n",
              "  <tbody>\n",
              "    <tr>\n",
              "      <th>0</th>\n",
              "      <td>19</td>\n",
              "      <td>0</td>\n",
              "      <td>16884.92400</td>\n",
              "      <td>1</td>\n",
              "      <td>0</td>\n",
              "      <td>0</td>\n",
              "      <td>0</td>\n",
              "      <td>0</td>\n",
              "      <td>1</td>\n",
              "    </tr>\n",
              "    <tr>\n",
              "      <th>1</th>\n",
              "      <td>18</td>\n",
              "      <td>1</td>\n",
              "      <td>1725.55230</td>\n",
              "      <td>0</td>\n",
              "      <td>1</td>\n",
              "      <td>0</td>\n",
              "      <td>0</td>\n",
              "      <td>1</td>\n",
              "      <td>0</td>\n",
              "    </tr>\n",
              "    <tr>\n",
              "      <th>2</th>\n",
              "      <td>28</td>\n",
              "      <td>3</td>\n",
              "      <td>4449.46200</td>\n",
              "      <td>0</td>\n",
              "      <td>1</td>\n",
              "      <td>0</td>\n",
              "      <td>0</td>\n",
              "      <td>1</td>\n",
              "      <td>0</td>\n",
              "    </tr>\n",
              "    <tr>\n",
              "      <th>3</th>\n",
              "      <td>33</td>\n",
              "      <td>0</td>\n",
              "      <td>21984.47061</td>\n",
              "      <td>0</td>\n",
              "      <td>1</td>\n",
              "      <td>0</td>\n",
              "      <td>1</td>\n",
              "      <td>0</td>\n",
              "      <td>0</td>\n",
              "    </tr>\n",
              "    <tr>\n",
              "      <th>4</th>\n",
              "      <td>32</td>\n",
              "      <td>0</td>\n",
              "      <td>3866.85520</td>\n",
              "      <td>0</td>\n",
              "      <td>1</td>\n",
              "      <td>0</td>\n",
              "      <td>1</td>\n",
              "      <td>0</td>\n",
              "      <td>0</td>\n",
              "    </tr>\n",
              "  </tbody>\n",
              "</table>\n",
              "</div>"
            ],
            "text/plain": [
              "   age  children  ...  region_southeast  region_southwest\n",
              "0   19         0  ...                 0                 1\n",
              "1   18         1  ...                 1                 0\n",
              "2   28         3  ...                 1                 0\n",
              "3   33         0  ...                 0                 0\n",
              "4   32         0  ...                 0                 0\n",
              "\n",
              "[5 rows x 9 columns]"
            ]
          },
          "metadata": {},
          "execution_count": 44
        }
      ]
    },
    {
      "cell_type": "markdown",
      "metadata": {
        "id": "PavUMlZGisgn"
      },
      "source": [
        "# Data Analysis\n",
        "\n",
        "Analyse the data to understand the relation between features and target. "
      ]
    },
    {
      "cell_type": "code",
      "metadata": {
        "id": "HqQgrrENf4Fn"
      },
      "source": [
        "# import seaborn as sns\n",
        "# sns.pairplot(dataset,hue='charges')"
      ],
      "execution_count": 33,
      "outputs": []
    },
    {
      "cell_type": "code",
      "metadata": {
        "id": "OhXh2esCjWpB",
        "colab": {
          "base_uri": "https://localhost:8080/"
        },
        "outputId": "bc6b899a-8d63-443f-8c38-eecb29fa1608"
      },
      "source": [
        "targetData = list(dataset[target])\n",
        "featureDf =  dataset.copy()\n",
        "featureDf.drop(target,axis=1, inplace=True)\n",
        "featureDf.shape"
      ],
      "execution_count": 34,
      "outputs": [
        {
          "output_type": "execute_result",
          "data": {
            "text/plain": [
              "(1338, 8)"
            ]
          },
          "metadata": {},
          "execution_count": 34
        }
      ]
    },
    {
      "cell_type": "code",
      "metadata": {
        "id": "CSnsdrljEfv9",
        "colab": {
          "base_uri": "https://localhost:8080/"
        },
        "outputId": "d1ee6dbc-6973-4787-f0ff-9b98f111e18f"
      },
      "source": [
        "featureData = featureDf.values\n",
        "x_train = featureData[:900]\n",
        "y_train = targetData[:900]\n",
        "x_test = featureData[1000:]\n",
        "y_test = targetData[1000:]\n",
        "print(len(x_train), len(y_train))\n",
        "print(x_train[:5])"
      ],
      "execution_count": 45,
      "outputs": [
        {
          "output_type": "stream",
          "name": "stdout",
          "text": [
            "900 900\n",
            "[[19  0  1  0  0  0  0  1]\n",
            " [18  1  0  1  0  0  1  0]\n",
            " [28  3  0  1  0  0  1  0]\n",
            " [33  0  0  1  0  1  0  0]\n",
            " [32  0  0  1  0  1  0  0]]\n"
          ]
        }
      ]
    },
    {
      "cell_type": "code",
      "metadata": {
        "id": "I8v4JWW-pEyj"
      },
      "source": [
        "# Default parameters\n",
        "learning_rate = 0.0003\n",
        "epochs = 5"
      ],
      "execution_count": 36,
      "outputs": []
    },
    {
      "cell_type": "markdown",
      "metadata": {
        "id": "tZkG8Kg-92Kt"
      },
      "source": [
        "# model -1 : Python"
      ]
    },
    {
      "cell_type": "code",
      "metadata": {
        "id": "uc7q6TU29kNh"
      },
      "source": [
        "class LinearRegressionModel:\n",
        "  def __init__(self, learning_rate=0.3, epochs=10):\n",
        "    self.learning_rate = learning_rate\n",
        "    self.epochs = epochs\n",
        "    self.lossValue = None\n",
        "    self.optimalweight = None\n",
        "    self.optimalbias = None\n",
        "  \n",
        "  def fit(self, x=[],y=[]):\n",
        "    self.Sn = len(x) # number of samples\n",
        "    self.Xn = len(x[0]) # number of features\n",
        "    # init weight and bias\n",
        "    self.wgt = np.zeros(self.Xn)\n",
        "    self.bias = 0\n",
        "    self.X = x\n",
        "    self.Y = y\n",
        "    print(\"Initial values: \",self.Sn,self.Xn,self.wgt, self.bias)\n",
        "    for i in range(self.epochs):\n",
        "      y_pred = self.predict(x)\n",
        "      self.wgt = self.updated_weights(x,y,y_pred)\n",
        "      self.bias = self.bias- (self.learning_rate* self.partialDerivativebias())  \n",
        "\n",
        "  def updated_weights(self,x,y,y_pred):\n",
        "    # weight = weight - L* dw\n",
        "    newWeight = self.wgt.copy()\n",
        "    for i in range(len(self.wgt)):\n",
        "      newWeight[i] = newWeight[i]- (self.learning_rate* self.partialDerivativeWeight(i,x,y,y_pred))\n",
        "    print(\"{}  ==>  {}\".format(self.wgt, newWeight))\n",
        "    return newWeight\n",
        "\n",
        "\n",
        "  def partialDerivativeWeight(self,weightIndex=0, X=[], actual=[], predict =[]):\n",
        "    result = 0\n",
        "    sum =0\n",
        "    n = len(actual)\n",
        "    if (len(actual) != len(predict)) or n==0:\n",
        "      return 0\n",
        "    for i in range(len(actual)):\n",
        "      sum = sum + (X[i][weightIndex]*(actual[i]-predict[i]))\n",
        "    result = (-2/n)* sum\n",
        "    return result\n",
        "\n",
        "  def partialDerivativebias(self, actual=[], predict=[]):\n",
        "    result = 0\n",
        "    sum = 0\n",
        "    n = len(actual)\n",
        "    if (n!=len(predict)) or n==0:\n",
        "      return 0\n",
        "    for i in range(n):\n",
        "      sum = sum + (actual[i]-predict[i])\n",
        "    result = (-2/n)*sum\n",
        "    return result\n",
        "\n",
        "  def predict(self,X):\n",
        "    n = len(X)\n",
        "    y_pred = []\n",
        "    _weight= self.wgt \n",
        "    _bias = self.bias\n",
        "    for i in range(n):\n",
        "      pred = _bias\n",
        "      for j in range(self.Xn):\n",
        "        pred = pred+ X[i][j] *_weight[j]\n",
        "      y_pred.append(pred)\n",
        "    return y_pred\n",
        "\n",
        "  \n",
        "  def meanSquaredError(self,actual=[],predict=[]):\n",
        "    totalLoss = 0\n",
        "    error = 0\n",
        "    n = len(actual)\n",
        "    if n == len(predict):\n",
        "      for i in range(n):\n",
        "        totalLoss = totalLoss + ((actual[i]-predict[i])**2)\n",
        "      error = totalLoss/n\n",
        "    return error\n",
        "\n",
        "  def getParams(self):\n",
        "    return {\n",
        "        \"weights\":self.wgt,\n",
        "        \"bias\":self.bias\n",
        "    }"
      ],
      "execution_count": 37,
      "outputs": []
    },
    {
      "cell_type": "code",
      "metadata": {
        "colab": {
          "base_uri": "https://localhost:8080/"
        },
        "id": "wUimFI6zTkas",
        "outputId": "f555ba18-92ac-44d3-8318-ebec5cab2726"
      },
      "source": [
        "# train \n",
        "model = LinearRegressionModel(learning_rate, epochs)\n",
        "model.fit(x_train,y_train)\n",
        "y_pred = model.predict(x_test)\n",
        "model1_err = mean_squared_error(y_test,y_pred)\n",
        "print(model.getParams())"
      ],
      "execution_count": 38,
      "outputs": [
        {
          "output_type": "stream",
          "name": "stdout",
          "text": [
            "Initial values:  900 8 [0. 0. 0. 0. 0. 0. 0. 0.] 0\n",
            "[0. 0. 0. 0. 0. 0. 0. 0.]  ==>  [346.76051983   8.91852036   3.86755535   4.03510003   2.00847101\n",
            "   1.70861516   2.42082332   1.76474589]\n",
            "[346.76051983   8.91852036   3.86755535   4.03510003   2.00847101\n",
            "   1.70861516   2.42082332   1.76474589]  ==>  [324.15812032   8.89195582   3.55001867   4.00191234   1.95141811\n",
            "   1.48116016   2.584157     1.53519573]\n",
            "[324.15812032   8.89195582   3.55001867   4.00191234   1.95141811\n",
            "   1.48116016   2.584157     1.53519573]  ==>  [325.61397106   9.4475137    3.50510061   4.23363854   2.02888844\n",
            "   1.37982572   2.89447452   1.43555047]\n",
            "[325.61397106   9.4475137    3.50510061   4.23363854   2.02888844\n",
            "   1.37982572   2.89447452   1.43555047]  ==>  [325.50281494   9.96464541   3.4424508    4.44803815   2.09758322\n",
            "   1.27029226   3.19516193   1.32745154]\n",
            "[325.50281494   9.96464541   3.4424508    4.44803815   2.09758322\n",
            "   1.27029226   3.19516193   1.32745154]  ==>  [325.49373803  10.48377048   3.38098104   4.66349475   2.16683615\n",
            "   1.1613086    3.4964202    1.21991085]\n",
            "{'weights': array([325.49373803,  10.48377048,   3.38098104,   4.66349475,\n",
            "         2.16683615,   1.1613086 ,   3.4964202 ,   1.21991085]), 'bias': 0.0}\n"
          ]
        }
      ]
    },
    {
      "cell_type": "markdown",
      "metadata": {
        "id": "gEOHxONnusK8"
      },
      "source": [
        "# Model -2: Linear Regression model with numpy"
      ]
    },
    {
      "cell_type": "code",
      "metadata": {
        "id": "USpBHZD9uw2q"
      },
      "source": [
        "class Linear_Regression2():\n",
        "\n",
        "  # initiating the parameters (learning rate & no. of iterations)\n",
        "  def __init__(self, learning_rate, epochs):\n",
        "\n",
        "    self.learning_rate = learning_rate\n",
        "    self.epochs = epochs\n",
        "\n",
        "\n",
        "  def fit(self, X, Y ):\n",
        "\n",
        "    # number of training examples & number of features\n",
        "\n",
        "    self.n_samples, self.n_features = X.shape  # number of rows & columns\n",
        "\n",
        "    # initiating the weight and bias \n",
        "\n",
        "    self.weights = np.zeros(self.n_features)\n",
        "    self.bias = 0\n",
        "    self.X = X\n",
        "    self.Y = Y\n",
        "\n",
        "    # implementing Gradient Descent\n",
        "    \n",
        "    for i in range(self.epochs):\n",
        "      self.update_weights()\n",
        "\n",
        "\n",
        "  def update_weights(self):\n",
        "\n",
        "    Y_prediction = self.predict(self.X)\n",
        "\n",
        "    # calculate gradients\n",
        "\n",
        "    dw = - (2 * np.sum((self.X.T).dot(self.Y - Y_prediction))) / self.n_samples\n",
        "\n",
        "    db = - 2 * np.sum(self.Y - Y_prediction)/self.n_samples\n",
        "\n",
        "    # upadating the weights\n",
        "    tmp = self.weights\n",
        "    self.weights = self.weights - self.learning_rate*dw\n",
        "    self.bias = self.bias - self.learning_rate*db\n",
        "    print(\"{}  ==>  {}\".format(tmp,self.weights))\n",
        "\n",
        "  def predict(self, X):\n",
        "    return X.dot(self.weights) + self.bias\n",
        "\n",
        "  \n",
        "  def getParams(self):\n",
        "    return {\n",
        "        \"weights\":self.weights,\n",
        "        \"bias\":self.bias\n",
        "    }"
      ],
      "execution_count": 39,
      "outputs": []
    },
    {
      "cell_type": "code",
      "metadata": {
        "colab": {
          "base_uri": "https://localhost:8080/"
        },
        "id": "eF4TcNqzuwV1",
        "outputId": "8ccd0fa6-bab8-4291-b01e-02447fc1212a"
      },
      "source": [
        "x_tr = pd.DataFrame(x_train)\n",
        "print(x_tr.shape)\n",
        "model = Linear_Regression2(learning_rate,epochs)\n",
        "model.fit(x_tr,y_train)\n",
        "y_pred = model.predict(x_test)\n",
        "model2_err = mean_squared_error(y_test,y_pred)\n",
        "print(model.getParams())"
      ],
      "execution_count": 40,
      "outputs": [
        {
          "output_type": "stream",
          "name": "stdout",
          "text": [
            "(900, 8)\n",
            "[0. 0. 0. 0. 0. 0. 0. 0.]  ==>  [371.48435095 371.48435095 371.48435095 371.48435095 371.48435095\n",
            " 371.48435095 371.48435095 371.48435095]\n",
            "[371.48435095 371.48435095 371.48435095 371.48435095 371.48435095\n",
            " 371.48435095 371.48435095 371.48435095]  ==>  [290.60247096 290.60247096 290.60247096 290.60247096 290.60247096\n",
            " 290.60247096 290.60247096 290.60247096]\n",
            "[290.60247096 290.60247096 290.60247096 290.60247096 290.60247096\n",
            " 290.60247096 290.60247096 290.60247096]  ==>  [308.20992325 308.20992325 308.20992325 308.20992325 308.20992325\n",
            " 308.20992325 308.20992325 308.20992325]\n",
            "[308.20992325 308.20992325 308.20992325 308.20992325 308.20992325\n",
            " 308.20992325 308.20992325 308.20992325]  ==>  [304.3742442 304.3742442 304.3742442 304.3742442 304.3742442 304.3742442\n",
            " 304.3742442 304.3742442]\n",
            "[304.3742442 304.3742442 304.3742442 304.3742442 304.3742442 304.3742442\n",
            " 304.3742442 304.3742442]  ==>  [305.20717126 305.20717126 305.20717126 305.20717126 305.20717126\n",
            " 305.20717126 305.20717126 305.20717126]\n",
            "{'weights': array([305.20717126, 305.20717126, 305.20717126, 305.20717126,\n",
            "       305.20717126, 305.20717126, 305.20717126, 305.20717126]), 'bias': 6.848098971012796}\n"
          ]
        }
      ]
    },
    {
      "cell_type": "markdown",
      "metadata": {
        "id": "XZo7TkP6EgXx"
      },
      "source": [
        "# Model 3: Linear Regression with scikit-learn model"
      ]
    },
    {
      "cell_type": "code",
      "metadata": {
        "id": "c_j_3IuuElCB",
        "colab": {
          "base_uri": "https://localhost:8080/"
        },
        "outputId": "9b0e7cb2-438a-463c-d74d-d8ca899d4bb8"
      },
      "source": [
        "from sklearn.linear_model import  LinearRegression\n",
        "model = LinearRegression()\n",
        "model.fit(x_train,y_train)\n",
        "y_pred = model.predict(x_test)\n",
        "print(model.coef_)\n",
        "print(model.intercept_)"
      ],
      "execution_count": 41,
      "outputs": [
        {
          "output_type": "stream",
          "name": "stdout",
          "text": [
            "[ 277.38036965  460.20339923 -470.72941369  470.72941369  325.34924273\n",
            " -952.87607029 1604.92220646 -977.3953789 ]\n",
            "1617.8713444742498\n"
          ]
        }
      ]
    },
    {
      "cell_type": "code",
      "metadata": {
        "colab": {
          "base_uri": "https://localhost:8080/"
        },
        "id": "t8R5_CPDH95f",
        "outputId": "f47542b4-9038-4a82-9fa5-40ed997e2fc5"
      },
      "source": [
        "model3_err =mean_squared_error(y_test,y_pred)\n",
        "print(\"MSE: \",mean_squared_error(y_test,y_pred))"
      ],
      "execution_count": 42,
      "outputs": [
        {
          "output_type": "stream",
          "name": "stdout",
          "text": [
            "MSE:  147475402.23093522\n"
          ]
        }
      ]
    },
    {
      "cell_type": "markdown",
      "metadata": {
        "id": "z8Z5jDUxwKlo"
      },
      "source": [
        "# compare Results"
      ]
    },
    {
      "cell_type": "code",
      "metadata": {
        "colab": {
          "base_uri": "https://localhost:8080/"
        },
        "id": "aE9XCOBqIC-c",
        "outputId": "5a45fa2d-dbbe-4da3-b080-f0ecb64c1168"
      },
      "source": [
        "print(\"MSE\")\n",
        "print(\"model -1 - python = {}\".format(model1_err))\n",
        "print(\"model -2 - numpy = {}\".format(model2_err))\n",
        "print(\"model -3 - scikit learn = {}\".format(model3_err))"
      ],
      "execution_count": 43,
      "outputs": [
        {
          "output_type": "stream",
          "name": "stdout",
          "text": [
            "MSE\n",
            "model -1 - python = 153253247.34214312\n",
            "model -2 - numpy = 151264824.17186326\n",
            "model -3 - scikit learn = 147475402.23093522\n"
          ]
        }
      ]
    },
    {
      "cell_type": "code",
      "metadata": {
        "id": "lp-oI3TpsnUz"
      },
      "source": [
        ""
      ],
      "execution_count": 43,
      "outputs": []
    },
    {
      "cell_type": "code",
      "metadata": {
        "id": "t5SlQsvhtZHW"
      },
      "source": [
        ""
      ],
      "execution_count": 43,
      "outputs": []
    }
  ]
}