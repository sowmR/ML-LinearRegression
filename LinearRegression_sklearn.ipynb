{
  "nbformat": 4,
  "nbformat_minor": 0,
  "metadata": {
    "colab": {
      "name": "LinearRegression_scratch.ipynb",
      "provenance": [],
      "collapsed_sections": [],
      "authorship_tag": "ABX9TyOmcNtXPybVRgMhDtnxhfjK",
      "include_colab_link": true
    },
    "kernelspec": {
      "name": "python3",
      "display_name": "Python 3"
    },
    "language_info": {
      "name": "python"
    }
  },
  "cells": [
    {
      "cell_type": "markdown",
      "metadata": {
        "id": "view-in-github",
        "colab_type": "text"
      },
      "source": [
        "<a href=\"https://colab.research.google.com/github/sowmR/ML-LinearRegression/blob/main/LinearRegression_sklearn.ipynb\" target=\"_parent\"><img src=\"https://colab.research.google.com/assets/colab-badge.svg\" alt=\"Open In Colab\"/></a>"
      ]
    },
    {
      "cell_type": "code",
      "metadata": {
        "id": "xID--2MR_tjx"
      },
      "source": [
        "import os\n",
        "import pandas as pd\n",
        "import numpy as np\n",
        "import matplotlib.pyplot as plt\n",
        "\n",
        "from sklearn.metrics import mean_squared_error, r2_score"
      ],
      "execution_count": null,
      "outputs": []
    },
    {
      "cell_type": "code",
      "metadata": {
        "colab": {
          "base_uri": "https://localhost:8080/"
        },
        "id": "S_j5FOfPeRIv",
        "outputId": "98a3a53f-8044-435a-99a8-59df49bb3421"
      },
      "source": [
        "dataset = pd.read_csv('./sample_data/insurance_costs.csv')\n",
        "print(dataset.shape)\n",
        "print(dataset.columns)"
      ],
      "execution_count": null,
      "outputs": [
        {
          "output_type": "stream",
          "name": "stdout",
          "text": [
            "(1338, 6)\n",
            "Index(['Unnamed: 0', 'age', 'sex', 'children', 'region', 'charges'], dtype='object')\n"
          ]
        }
      ]
    },
    {
      "cell_type": "code",
      "metadata": {
        "colab": {
          "base_uri": "https://localhost:8080/"
        },
        "id": "94KTQNZGed9b",
        "outputId": "374fbdd5-66f3-4f94-efd4-b772781ffef8"
      },
      "source": [
        "dataset.drop('Unnamed: 0', axis=1,inplace=True)\n",
        "features = list(dataset.columns)\n",
        "target = 'charges'\n",
        "print(features)\n",
        "print(dataset.head(5))\n"
      ],
      "execution_count": null,
      "outputs": [
        {
          "output_type": "stream",
          "name": "stdout",
          "text": [
            "['age', 'sex', 'children', 'region', 'charges']\n",
            "   age     sex  children     region      charges\n",
            "0   19  female         0  southwest  16884.92400\n",
            "1   18    male         1  southeast   1725.55230\n",
            "2   28    male         3  southeast   4449.46200\n",
            "3   33    male         0  northwest  21984.47061\n",
            "4   32    male         0  northwest   3866.85520\n"
          ]
        }
      ]
    },
    {
      "cell_type": "markdown",
      "metadata": {
        "id": "NUANxSwd9kst"
      },
      "source": [
        "# Data Preprocessing"
      ]
    },
    {
      "cell_type": "code",
      "metadata": {
        "colab": {
          "base_uri": "https://localhost:8080/",
          "height": 206
        },
        "id": "1aTbZdvx9jw2",
        "outputId": "1d56918b-74b2-48ab-886c-fee0d9b158b5"
      },
      "source": [
        "dataset = pd.get_dummies(dataset)\n",
        "dataset.head(5)"
      ],
      "execution_count": null,
      "outputs": [
        {
          "output_type": "execute_result",
          "data": {
            "text/html": [
              "<div>\n",
              "<style scoped>\n",
              "    .dataframe tbody tr th:only-of-type {\n",
              "        vertical-align: middle;\n",
              "    }\n",
              "\n",
              "    .dataframe tbody tr th {\n",
              "        vertical-align: top;\n",
              "    }\n",
              "\n",
              "    .dataframe thead th {\n",
              "        text-align: right;\n",
              "    }\n",
              "</style>\n",
              "<table border=\"1\" class=\"dataframe\">\n",
              "  <thead>\n",
              "    <tr style=\"text-align: right;\">\n",
              "      <th></th>\n",
              "      <th>age</th>\n",
              "      <th>children</th>\n",
              "      <th>charges</th>\n",
              "      <th>sex_female</th>\n",
              "      <th>sex_male</th>\n",
              "      <th>region_northeast</th>\n",
              "      <th>region_northwest</th>\n",
              "      <th>region_southeast</th>\n",
              "      <th>region_southwest</th>\n",
              "    </tr>\n",
              "  </thead>\n",
              "  <tbody>\n",
              "    <tr>\n",
              "      <th>0</th>\n",
              "      <td>19</td>\n",
              "      <td>0</td>\n",
              "      <td>16884.92400</td>\n",
              "      <td>1</td>\n",
              "      <td>0</td>\n",
              "      <td>0</td>\n",
              "      <td>0</td>\n",
              "      <td>0</td>\n",
              "      <td>1</td>\n",
              "    </tr>\n",
              "    <tr>\n",
              "      <th>1</th>\n",
              "      <td>18</td>\n",
              "      <td>1</td>\n",
              "      <td>1725.55230</td>\n",
              "      <td>0</td>\n",
              "      <td>1</td>\n",
              "      <td>0</td>\n",
              "      <td>0</td>\n",
              "      <td>1</td>\n",
              "      <td>0</td>\n",
              "    </tr>\n",
              "    <tr>\n",
              "      <th>2</th>\n",
              "      <td>28</td>\n",
              "      <td>3</td>\n",
              "      <td>4449.46200</td>\n",
              "      <td>0</td>\n",
              "      <td>1</td>\n",
              "      <td>0</td>\n",
              "      <td>0</td>\n",
              "      <td>1</td>\n",
              "      <td>0</td>\n",
              "    </tr>\n",
              "    <tr>\n",
              "      <th>3</th>\n",
              "      <td>33</td>\n",
              "      <td>0</td>\n",
              "      <td>21984.47061</td>\n",
              "      <td>0</td>\n",
              "      <td>1</td>\n",
              "      <td>0</td>\n",
              "      <td>1</td>\n",
              "      <td>0</td>\n",
              "      <td>0</td>\n",
              "    </tr>\n",
              "    <tr>\n",
              "      <th>4</th>\n",
              "      <td>32</td>\n",
              "      <td>0</td>\n",
              "      <td>3866.85520</td>\n",
              "      <td>0</td>\n",
              "      <td>1</td>\n",
              "      <td>0</td>\n",
              "      <td>1</td>\n",
              "      <td>0</td>\n",
              "      <td>0</td>\n",
              "    </tr>\n",
              "  </tbody>\n",
              "</table>\n",
              "</div>"
            ],
            "text/plain": [
              "   age  children  ...  region_southeast  region_southwest\n",
              "0   19         0  ...                 0                 1\n",
              "1   18         1  ...                 1                 0\n",
              "2   28         3  ...                 1                 0\n",
              "3   33         0  ...                 0                 0\n",
              "4   32         0  ...                 0                 0\n",
              "\n",
              "[5 rows x 9 columns]"
            ]
          },
          "metadata": {},
          "execution_count": 44
        }
      ]
    },
    {
      "cell_type": "markdown",
      "metadata": {
        "id": "PavUMlZGisgn"
      },
      "source": [
        "# Data Analysis\n",
        "\n",
        "Analyse the data to understand the relation between features and target. "
      ]
    },
    {
      "cell_type": "code",
      "metadata": {
        "id": "HqQgrrENf4Fn"
      },
      "source": [
        "# import seaborn as sns\n",
        "# sns.pairplot(dataset,hue='charges')"
      ],
      "execution_count": null,
      "outputs": []
    },
    {
      "cell_type": "code",
      "metadata": {
        "id": "OhXh2esCjWpB",
        "colab": {
          "base_uri": "https://localhost:8080/"
        },
        "outputId": "bc6b899a-8d63-443f-8c38-eecb29fa1608"
      },
      "source": [
        "targetData = list(dataset[target])\n",
        "featureDf =  dataset.copy()\n",
        "featureDf.drop(target,axis=1, inplace=True)\n",
        "featureDf.shape"
      ],
      "execution_count": null,
      "outputs": [
        {
          "output_type": "execute_result",
          "data": {
            "text/plain": [
              "(1338, 8)"
            ]
          },
          "metadata": {},
          "execution_count": 34
        }
      ]
    },
    {
      "cell_type": "code",
      "metadata": {
        "id": "CSnsdrljEfv9",
        "colab": {
          "base_uri": "https://localhost:8080/"
        },
        "outputId": "d1ee6dbc-6973-4787-f0ff-9b98f111e18f"
      },
      "source": [
        "featureData = featureDf.values\n",
        "x_train = featureData[:900]\n",
        "y_train = targetData[:900]\n",
        "x_test = featureData[1000:]\n",
        "y_test = targetData[1000:]\n",
        "print(len(x_train), len(y_train))\n",
        "print(x_train[:5])"
      ],
      "execution_count": null,
      "outputs": [
        {
          "output_type": "stream",
          "name": "stdout",
          "text": [
            "900 900\n",
            "[[19  0  1  0  0  0  0  1]\n",
            " [18  1  0  1  0  0  1  0]\n",
            " [28  3  0  1  0  0  1  0]\n",
            " [33  0  0  1  0  1  0  0]\n",
            " [32  0  0  1  0  1  0  0]]\n"
          ]
        }
      ]
    },
    {
      "cell_type": "code",
      "metadata": {
        "id": "I8v4JWW-pEyj"
      },
      "source": [
        "# Default parameters\n",
        "learning_rate = 0.0003\n",
        "epochs = 5"
      ],
      "execution_count": null,
      "outputs": []
    },
    {
      "cell_type": "markdown",
      "metadata": {
        "id": "XZo7TkP6EgXx"
      },
      "source": [
        "# Model 3: Linear Regression with scikit-learn model"
      ]
    },
    {
      "cell_type": "code",
      "metadata": {
        "id": "c_j_3IuuElCB",
        "colab": {
          "base_uri": "https://localhost:8080/"
        },
        "outputId": "9b0e7cb2-438a-463c-d74d-d8ca899d4bb8"
      },
      "source": [
        "from sklearn.linear_model import  LinearRegression\n",
        "model = LinearRegression()\n",
        "model.fit(x_train,y_train)\n",
        "y_pred = model.predict(x_test)\n",
        "print(model.coef_)\n",
        "print(model.intercept_)"
      ],
      "execution_count": null,
      "outputs": [
        {
          "output_type": "stream",
          "name": "stdout",
          "text": [
            "[ 277.38036965  460.20339923 -470.72941369  470.72941369  325.34924273\n",
            " -952.87607029 1604.92220646 -977.3953789 ]\n",
            "1617.8713444742498\n"
          ]
        }
      ]
    },
    {
      "cell_type": "code",
      "metadata": {
        "colab": {
          "base_uri": "https://localhost:8080/"
        },
        "id": "t8R5_CPDH95f",
        "outputId": "f47542b4-9038-4a82-9fa5-40ed997e2fc5"
      },
      "source": [
        "model3_err =mean_squared_error(y_test,y_pred)\n",
        "print(\"MSE: \",mean_squared_error(y_test,y_pred))"
      ],
      "execution_count": null,
      "outputs": [
        {
          "output_type": "stream",
          "name": "stdout",
          "text": [
            "MSE:  147475402.23093522\n"
          ]
        }
      ]
    }
  ]
}